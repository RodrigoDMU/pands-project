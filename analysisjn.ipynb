{
 "cells": [
  {
   "cell_type": "markdown",
   "metadata": {},
   "source": [
    "# Higher Diploma in Science in Computing - Data Analytics\n",
    "\n",
    "## Programming and Scripting - Project Iris\n",
    "\n",
    "**Author: Rodrigo De Martino Ucedo**\n",
    "\n",
    "This Jupyter Notebook was created as part of the [Programming and Scripting](https://www.gmit.ie/programming-and-scripting) assessment module for the course in the [Higher Diploma in Data Analytics](https://www.gmit.ie/higher-diploma-in-science-in-computing-in-data-analytics?_gl=1*1bcdos0*_ga*MTE3OTU2MzQ5LjE2OTY2MDYwMzE.*_ga_5R02GBYV8V*MTcxNDMzOTE2Ni4xMS4xLjE3MTQzMzkyMDAuMC4wLjA.) at [ATU](https://www.atu.ie/). This project is accessing the dataset [\"Iris\"](https://raw.githubusercontent.com/mwaskom/seaborn-data/master/iris.csv) to demonstrate the skills developed for analysis, programming and data visualization using Jupyter Notebook (Python). [1]\n",
    "\n",
    "****"
   ]
  },
  {
   "cell_type": "markdown",
   "metadata": {},
   "source": [
    "# Iris\n",
    "****"
   ]
  },
  {
   "cell_type": "markdown",
   "metadata": {},
   "source": [
    "This project is about the [\"Iris\"](https://raw.githubusercontent.com/mwaskom/seaborn-data/master/iris.csv) dataset, \n",
    "\n",
    "![Iris](Irisimg.png)"
   ]
  },
  {
   "cell_type": "markdown",
   "metadata": {},
   "source": [
    "**Data originally published in:**\n",
    "\n",
    "Unwin, A., & Kleinman, K. (2021). The iris data set: In search of the source of virginica. Significance, 18. [[4]](#4)\n",
    "****"
   ]
  }
 ],
 "metadata": {
  "kernelspec": {
   "display_name": "base",
   "language": "python",
   "name": "python3"
  },
  "language_info": {
   "codemirror_mode": {
    "name": "ipython",
    "version": 3
   },
   "file_extension": ".py",
   "mimetype": "text/x-python",
   "name": "python",
   "nbconvert_exporter": "python",
   "pygments_lexer": "ipython3",
   "version": "3.11.5"
  }
 },
 "nbformat": 4,
 "nbformat_minor": 2
}
